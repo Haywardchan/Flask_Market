{
 "cells": [
  {
   "attachments": {},
   "cell_type": "markdown",
   "metadata": {},
   "source": [
    "### Backend python development\n",
    "<!-- ![image.png](./Image/map_webdev.png) -->\n",
    "<img src=\"./image/map_webdev.png\" width=\"300\"/>"
   ]
  },
  {
   "cell_type": "code",
   "execution_count": null,
   "metadata": {},
   "outputs": [],
   "source": [
    "from flask import Flask \n",
    "app=Flask(__name__) # build application object\n",
    "# build web response method\n",
    "@app.route(\"/\")\n",
    "def index():\n",
    "    return \"hello\"\n",
    "# run web server\n",
    "app.run()"
   ]
  },
  {
   "cell_type": "code",
   "execution_count": null,
   "metadata": {},
   "outputs": [],
   "source": [
    "# Command Prompt\n",
    "# Set FLASK_APP=filename \n",
    "# flask run"
   ]
  },
  {
   "cell_type": "code",
   "execution_count": null,
   "metadata": {},
   "outputs": [],
   "source": [
    "@app.route('/about/<username>')\n",
    "def about_page(username):\n",
    "    return f\"<h1>about {username}</h1>\""
   ]
  },
  {
   "cell_type": "code",
   "execution_count": null,
   "metadata": {},
   "outputs": [],
   "source": [
    "## Jinja syntax\n",
    "def market_page():\n",
    "    return render_template('market.html', item_name='Phone')\n",
    "{{item_name}}"
   ]
  }
 ],
 "metadata": {
  "kernelspec": {
   "display_name": "Python 3",
   "language": "python",
   "name": "python3"
  },
  "language_info": {
   "codemirror_mode": {
    "name": "ipython",
    "version": 3
   },
   "file_extension": ".py",
   "mimetype": "text/x-python",
   "name": "python",
   "nbconvert_exporter": "python",
   "pygments_lexer": "ipython3",
   "version": "3.9.5"
  },
  "orig_nbformat": 4
 },
 "nbformat": 4,
 "nbformat_minor": 2
}
