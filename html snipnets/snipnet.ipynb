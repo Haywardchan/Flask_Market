{
 "cells": [
  {
   "attachments": {},
   "cell_type": "markdown",
   "metadata": {},
   "source": [
    "## Navbar\n",
    "<nav class=\"navbar navbar-expand-md navbar-dark bg-dark\">\n",
    "        <a class=\"navbar-brand\" href=\"#\">Flask Market</a>\n",
    "        <button class=\"navbar-toggler\" type=\"button\" data-toggle=\"collapse\" data-target=\"#navbarNav\">\n",
    "          <span class=\"navbar-toggler-icon\"></span>\n",
    "        </button>\n",
    "        <div class=\"collapse navbar-collapse\" id=\"navbarNav\">\n",
    "        </div>\n",
    "    </nav>"
   ]
  },
  {
   "attachments": {},
   "cell_type": "markdown",
   "metadata": {},
   "source": [
    "## Options\n",
    "<ul class=\"navbar-nav mr-auto\">\n",
    "              <li class=\"nav-item active\">\n",
    "                  <a class=\"nav-link\" href=\"#\">Home <span class=\"sr-only\">(current)</span></a>\n",
    "              </li>\n",
    "              <li class=\"nav-item\">\n",
    "                  <a class=\"nav-link\" href=\"#\">Market</a>\n",
    "              </li>\n",
    "          </ul>\n",
    "          <ul class=\"navbar-nav\">\n",
    "              <li class=\"nav-item\">\n",
    "                  <a class=\"nav-link\" href=\"#\">Login</a>\n",
    "              </li>\n",
    "              <li class=\"nav-item\">\n",
    "                  <a class=\"nav-link\" href=\"#\">Register</a>\n",
    "              </li>\n",
    "          </ul>"
   ]
  },
  {
   "attachments": {},
   "cell_type": "markdown",
   "metadata": {},
   "source": [
    "<table class=\"table table-hover table-dark\">\n",
    "        <thead>\n",
    "            <tr>\n",
    "                <!-- Your Columns HERE -->\n",
    "                <th scope=\"col\">ID</th>\n",
    "                <th scope=\"col\">Name</th>\n",
    "                <th scope=\"col\">Barcode</th>\n",
    "                <th scope=\"col\">Price</th>\n",
    "                <th scope=\"col\">Options</th>\n",
    "            </tr>\n",
    "        </thead>\n",
    "        <tbody>\n",
    "            <!-- Your rows inside the table HERE: -->\n",
    "            {% for item in items %}\n",
    "                <tr>\n",
    "                    <td>{{ item.id }}</td>\n",
    "                    <td>{{ item.name }}</td>\n",
    "                    <td>{{ item.barcode }}</td>\n",
    "                    <td>{{ item.price }}$</td>\n",
    "                    <td>\n",
    "                        <button class=\"btn btn-outline btn-info\">More Info</button>\n",
    "                        <button class=\"btn btn-outline btn-success\">Purchase this Item</button>\n",
    "                    </td>\n",
    "                </tr>\n",
    "            {% endfor %}\n",
    "        </tbody>\n",
    "    </table>"
   ]
  }
 ],
 "metadata": {
  "language_info": {
   "name": "python"
  },
  "orig_nbformat": 4
 },
 "nbformat": 4,
 "nbformat_minor": 2
}
